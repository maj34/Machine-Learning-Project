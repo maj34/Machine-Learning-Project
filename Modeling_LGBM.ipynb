{
 "cells": [
  {
   "cell_type": "markdown",
   "metadata": {},
   "source": [
    "<font color=\"#CC3D3D\"><p>\n",
    "# Modeling\n",
    "    \n",
    "<font color=\"black\"><p>\n",
    "- [Read Data](#Read-Data)\n",
    "- [Merge All Features](#Merge-All-Features)\n",
    "- [Feature Selection](#Feature-Selection)\n",
    "- [LGBM_BO Modeling](#LGBM_BO-Modeling)\n",
    "- [Deployment](#Deployment)\n",
    "- [Model Ensemble](#Model-Ensemble)"
   ]
  },
  {
   "cell_type": "code",
   "execution_count": 1,
   "metadata": {
    "scrolled": false
   },
   "outputs": [],
   "source": [
    "# Data Wrangling\n",
    "import pandas as pd\n",
    "from pandas import Series, DataFrame\n",
    "import numpy as np\n",
    "\n",
    "# Visualization\n",
    "import matplotlib.pylab as plt\n",
    "from matplotlib import font_manager, rc\n",
    "import seaborn as sns\n",
    "%matplotlib inline\n",
    "\n",
    "# EDA\n",
    "import klib\n",
    "\n",
    "# Preprocessing & Feature Engineering\n",
    "from sklearn.model_selection import train_test_split\n",
    "from sklearn.preprocessing import MinMaxScaler\n",
    "from sklearn.impute import SimpleImputer \n",
    "from sklearn.preprocessing import StandardScaler\n",
    "from sklearn.preprocessing import MinMaxScaler\n",
    "from sklearn.preprocessing import PowerTransformer\n",
    "from sklearn.feature_selection import SelectPercentile\n",
    "from sklearn import base\n",
    "from sklearn.model_selection import KFold\n",
    "from sklearn.model_selection import StratifiedShuffleSplit\n",
    "from sklearn.model_selection import StratifiedKFold\n",
    "from sklearn.experimental import enable_iterative_imputer  # still experimental \n",
    "from sklearn.impute import IterativeImputer\n",
    "from sklearn.feature_selection import RFE\n",
    "\n",
    "\n",
    "# Hyperparameter Optimization\n",
    "from sklearn.model_selection import GridSearchCV\n",
    "from sklearn.model_selection import RandomizedSearchCV\n",
    "\n",
    "# Modeling\n",
    "from sklearn.dummy import DummyClassifier\n",
    "from sklearn.linear_model import LogisticRegression\n",
    "from sklearn.ensemble import RandomForestRegressor\n",
    "from sklearn.neural_network import MLPRegressor\n",
    "from sklearn.tree import DecisionTreeRegressor\n",
    "from sklearn.ensemble import GradientBoostingRegressor\n",
    "from sklearn.svm import SVR\n",
    "from sklearn.ensemble import VotingRegressor\n",
    "from sklearn.ensemble import StackingRegressor\n",
    "from xgboost import XGBRegressor\n",
    "from lightgbm import LGBMRegressor\n",
    "from sklearn.ensemble import ExtraTreesRegressor\n",
    "from sklearn.linear_model import LinearRegression\n",
    "from sklearn.linear_model import Ridge, Lasso, ElasticNet\n",
    "from catboost import CatBoostRegressor\n",
    "from sklearn.neighbors import KNeighborsRegressor\n",
    "from sklearn.linear_model import ARDRegression\n",
    "from sklearn.linear_model import BayesianRidge\n",
    "\n",
    "# Evaluation\n",
    "from sklearn.metrics import roc_auc_score\n",
    "from sklearn.metrics import accuracy_score\n",
    "from sklearn.model_selection import cross_val_score\n",
    "from sklearn.metrics import mean_squared_error\n",
    "\n",
    "# Utility\n",
    "import os\n",
    "import time\n",
    "import random\n",
    "import sys, warnings\n",
    "if not sys.warnoptions: warnings.simplefilter(\"ignore\")\n",
    "from IPython.display import Image\n",
    "# import pickle\n",
    "from tqdm import tqdm\n",
    "import platform\n",
    "from itertools import combinations\n",
    "from scipy.stats.mstats import gmean\n",
    "from tensorflow import keras\n",
    "\n",
    "# from bayes_opt import BayesianOptimization"
   ]
  },
  {
   "cell_type": "markdown",
   "metadata": {},
   "source": [
    "# Read Data"
   ]
  },
  {
   "cell_type": "code",
   "execution_count": 82,
   "metadata": {},
   "outputs": [],
   "source": [
    "# 피쳐 불러오기\n",
    "num_features_train = pd.read_csv('../input/num_features_train_new_4.csv')\n",
    "num_features_test = pd.read_csv('../input/num_features_test_new_4.csv')\n",
    "onehot_features_train = pd.read_csv('../input/onehot_features_train.csv', encoding='cp949')\n",
    "onehot_features_test = pd.read_csv('../input/onehot_features_test.csv', encoding='cp949')\n",
    "w2v_features_train = pd.read_csv('../input/w2v_features_train.csv', encoding='cp949')\n",
    "w2v_features_test = pd.read_csv('../input/w2v_features_test.csv', encoding='cp949')"
   ]
  },
  {
   "cell_type": "code",
   "execution_count": 83,
   "metadata": {},
   "outputs": [],
   "source": [
    "target = pd.read_csv('../input/y_train.csv', encoding = 'cp949').age"
   ]
  },
  {
   "cell_type": "code",
   "execution_count": 84,
   "metadata": {
    "scrolled": false
   },
   "outputs": [
    {
     "data": {
      "text/plain": [
       "(21587, 1498)"
      ]
     },
     "execution_count": 84,
     "metadata": {},
     "output_type": "execute_result"
    }
   ],
   "source": [
    "num_features_train.shape"
   ]
  },
  {
   "cell_type": "code",
   "execution_count": 85,
   "metadata": {
    "scrolled": false
   },
   "outputs": [
    {
     "data": {
      "text/plain": [
       "(21587, 2309)"
      ]
     },
     "execution_count": 85,
     "metadata": {},
     "output_type": "execute_result"
    }
   ],
   "source": [
    "onehot_features_train.shape"
   ]
  },
  {
   "cell_type": "code",
   "execution_count": 86,
   "metadata": {
    "scrolled": false
   },
   "outputs": [
    {
     "data": {
      "text/plain": [
       "(14380, 1950)"
      ]
     },
     "execution_count": 86,
     "metadata": {},
     "output_type": "execute_result"
    }
   ],
   "source": [
    "w2v_features_test.shape"
   ]
  },
  {
   "cell_type": "markdown",
   "metadata": {},
   "source": [
    "# Merge All Features"
   ]
  },
  {
   "cell_type": "code",
   "execution_count": 37,
   "metadata": {},
   "outputs": [],
   "source": [
    "all_features_train =  pd.concat([num_features_train, onehot_features_train, w2v_features_train], axis = 1)\n",
    "all_features_test =  pd.concat([num_features_test, onehot_features_test, w2v_features_test], axis = 1)"
   ]
  },
  {
   "cell_type": "code",
   "execution_count": 38,
   "metadata": {},
   "outputs": [],
   "source": [
    "all_features_train = all_features_train.iloc[:, 1:]\n",
    "all_features_test = all_features_test.iloc[:, 1:]"
   ]
  },
  {
   "cell_type": "code",
   "execution_count": 39,
   "metadata": {
    "scrolled": false
   },
   "outputs": [
    {
     "name": "stdout",
     "output_type": "stream",
     "text": [
      "(21587, 5756) (14380, 5756) (21587,)\n"
     ]
    }
   ],
   "source": [
    "print(all_features_train.shape, all_features_test.shape, target.shape)"
   ]
  },
  {
   "cell_type": "markdown",
   "metadata": {},
   "source": [
    "# Feature Selection"
   ]
  },
  {
   "cell_type": "code",
   "execution_count": 41,
   "metadata": {},
   "outputs": [],
   "source": [
    "clf = LGBMRegressor(random_state = 0)        "
   ]
  },
  {
   "cell_type": "code",
   "execution_count": 42,
   "metadata": {},
   "outputs": [],
   "source": [
    "from sklearn.feature_selection import SelectFromModel"
   ]
  },
  {
   "cell_type": "code",
   "execution_count": 43,
   "metadata": {},
   "outputs": [],
   "source": [
    "all_features_train_fs = all_features_train\n",
    "all_features_test_fs = all_features_test"
   ]
  },
  {
   "cell_type": "code",
   "execution_count": 44,
   "metadata": {},
   "outputs": [],
   "source": [
    "smf = SelectFromModel(clf, threshold='3.0*mean')\n",
    "smf.fit(all_features_train_fs, target)\n",
    "\n",
    "X_new = smf.transform(all_features_train_fs)\n",
    "X_te_new = smf.transform(all_features_test_fs)\n",
    "\n",
    "feature_selection_idx = smf.get_support()\n",
    "feature_selection_name = all_features_train_fs.columns[feature_selection_idx]"
   ]
  },
  {
   "cell_type": "code",
   "execution_count": 45,
   "metadata": {
    "scrolled": true
   },
   "outputs": [
    {
     "data": {
      "text/plain": [
       "Index(['e', '베스트셀러_총구매액_평균', '베스트셀러_총구매액_최대구매액', '베스트셀러_총할인액_평균',\n",
       "       '베스트셀러_총할인액_변동계수', '단독상품구매비율', '총구매액', '평균할인금액', '평균할인율', '6시이후_구매건수',\n",
       "       ...\n",
       "       'part_v236', 'part_v238', 'part_v256', 'part_v257', 'part_v267',\n",
       "       'part_v283', 'part_v287', 'part_v290', 'part_v291', 'part_v297'],\n",
       "      dtype='object', length=638)"
      ]
     },
     "execution_count": 45,
     "metadata": {},
     "output_type": "execute_result"
    }
   ],
   "source": [
    "all_features_train_fs.columns[feature_selection_idx]"
   ]
  },
  {
   "cell_type": "code",
   "execution_count": 46,
   "metadata": {},
   "outputs": [],
   "source": [
    "X_new = pd.DataFrame(X_new)\n",
    "X_te_new = pd.DataFrame(X_te_new)\n",
    "\n",
    "X_new.columns = feature_selection_name\n",
    "X_te_new.columns = feature_selection_name"
   ]
  },
  {
   "cell_type": "code",
   "execution_count": 47,
   "metadata": {},
   "outputs": [
    {
     "name": "stdout",
     "output_type": "stream",
     "text": [
      "교차 검증별 정확도: [-65.7411 -67.9135 -66.996  -63.572  -63.9369]\n",
      "평균 검증 정확도: -65.6319\n",
      "RMSE: 8.1013518158507\n"
     ]
    }
   ],
   "source": [
    "from sklearn.model_selection import cross_val_score\n",
    "\n",
    "scores = cross_val_score(clf, X_new, target, scoring='neg_mean_squared_error', cv=5)\n",
    "print('교차 검증별 정확도:', np.round(scores, 4))\n",
    "print('평균 검증 정확도:', np.round(np.mean(scores), 4))\n",
    "print('RMSE:', np.sqrt(-np.mean(scores)))"
   ]
  },
  {
   "cell_type": "markdown",
   "metadata": {},
   "source": [
    "# LGBM_BO Modeling"
   ]
  },
  {
   "cell_type": "code",
   "execution_count": 48,
   "metadata": {
    "scrolled": true
   },
   "outputs": [],
   "source": [
    "X_train, X_val, y_train, y_val = train_test_split(X_new, target, test_size=0.3, random_state = 0)"
   ]
  },
  {
   "cell_type": "code",
   "execution_count": 49,
   "metadata": {},
   "outputs": [],
   "source": [
    "from bayes_opt import BayesianOptimization"
   ]
  },
  {
   "cell_type": "code",
   "execution_count": 50,
   "metadata": {},
   "outputs": [],
   "source": [
    "bayesian_params = {\n",
    "    'max_depth':(8, 16),\n",
    "    'num_leaves':(24, 64),\n",
    "    'min_child_samples':(10, 200),\n",
    "    'min_child_weight':(1, 50),\n",
    "    'subsample':(0.5, 1),\n",
    "    'colsample_bytree':(0.5, 1),\n",
    "    'max_bin':(10, 500),\n",
    "    'reg_lambda':(0.001, 10),\n",
    "    'reg_alpha':(0.01, 50)\n",
    "}"
   ]
  },
  {
   "cell_type": "code",
   "execution_count": 51,
   "metadata": {},
   "outputs": [],
   "source": [
    "def lgb_rmse_eval(max_depth, num_leaves, min_child_samples, min_child_weight, subsample, \n",
    "                colsample_bytree, max_bin, reg_lambda, reg_alpha):\n",
    "    \n",
    "    params = {\n",
    "        \"n_estimators\":2000, \n",
    "        \"learning_rate\":0.02,\n",
    "        'max_depth':int(round(max_depth)),\n",
    "        'num_leaves':int(round(num_leaves)),\n",
    "        'min_child_samples': int(round(min_child_samples)),\n",
    "        'min_child_weight': int(round(min_child_weight)),\n",
    "        'subsample':max(min(subsample, 1), 0),\n",
    "        'colsample_bytree':max(min(colsample_bytree, 1), 0),\n",
    "        'reg_lambda': max(reg_lambda,0),\n",
    "        'reg_alpha': max(reg_alpha, 0)\n",
    "    }\n",
    "    \n",
    "    lgb_model = LGBMRegressor(**params)\n",
    "    lgb_model.fit(X_train, y_train, eval_set=[(X_train, y_train), (X_val, y_val)], eval_metric= 'RMSE', verbose= 100, \n",
    "                early_stopping_rounds= 100)\n",
    "    valid_pred = lgb_model.predict(X_val)\n",
    "    RMSE = np.sqrt(mean_squared_error(y_val, valid_pred))\n",
    "    \n",
    "    return RMSE"
   ]
  },
  {
   "cell_type": "code",
   "execution_count": 52,
   "metadata": {
    "scrolled": true
   },
   "outputs": [
    {
     "name": "stdout",
     "output_type": "stream",
     "text": [
      "|   iter    |  target   | colsam... |  max_bin  | max_depth | min_ch... | min_ch... | num_le... | reg_alpha | reg_la... | subsample |\n",
      "-------------------------------------------------------------------------------------------------------------------------------------\n",
      "Training until validation scores don't improve for 100 rounds\n",
      "[100]\ttraining's rmse: 7.6077\ttraining's l2: 57.8771\tvalid_1's rmse: 8.31281\tvalid_1's l2: 69.1029\n",
      "[200]\ttraining's rmse: 6.78038\ttraining's l2: 45.9735\tvalid_1's rmse: 8.08869\tvalid_1's l2: 65.4269\n",
      "[300]\ttraining's rmse: 6.20824\ttraining's l2: 38.5422\tvalid_1's rmse: 8.03432\tvalid_1's l2: 64.5503\n",
      "[400]\ttraining's rmse: 5.73251\ttraining's l2: 32.8616\tvalid_1's rmse: 8.01072\tvalid_1's l2: 64.1717\n",
      "[500]\ttraining's rmse: 5.32387\ttraining's l2: 28.3436\tvalid_1's rmse: 7.99862\tvalid_1's l2: 63.978\n",
      "[600]\ttraining's rmse: 4.95762\ttraining's l2: 24.578\tvalid_1's rmse: 7.9929\tvalid_1's l2: 63.8865\n",
      "[700]\ttraining's rmse: 4.63271\ttraining's l2: 21.462\tvalid_1's rmse: 7.99131\tvalid_1's l2: 63.861\n",
      "[800]\ttraining's rmse: 4.33829\ttraining's l2: 18.8207\tvalid_1's rmse: 7.99176\tvalid_1's l2: 63.8682\n",
      "Early stopping, best iteration is:\n",
      "[705]\ttraining's rmse: 4.61942\ttraining's l2: 21.339\tvalid_1's rmse: 7.99088\tvalid_1's l2: 63.8542\n",
      "| \u001b[0m 1       \u001b[0m | \u001b[0m 7.991   \u001b[0m | \u001b[0m 0.7744  \u001b[0m | \u001b[0m 360.4   \u001b[0m | \u001b[0m 12.82   \u001b[0m | \u001b[0m 113.5   \u001b[0m | \u001b[0m 21.76   \u001b[0m | \u001b[0m 49.84   \u001b[0m | \u001b[0m 21.88   \u001b[0m | \u001b[0m 8.918   \u001b[0m | \u001b[0m 0.9818  \u001b[0m |\n",
      "Training until validation scores don't improve for 100 rounds\n",
      "[100]\ttraining's rmse: 7.92349\ttraining's l2: 62.7817\tvalid_1's rmse: 8.37933\tvalid_1's l2: 70.2132\n",
      "[200]\ttraining's rmse: 7.29833\ttraining's l2: 53.2656\tvalid_1's rmse: 8.14576\tvalid_1's l2: 66.3534\n",
      "[300]\ttraining's rmse: 6.89084\ttraining's l2: 47.4837\tvalid_1's rmse: 8.08137\tvalid_1's l2: 65.3086\n",
      "[400]\ttraining's rmse: 6.55256\ttraining's l2: 42.936\tvalid_1's rmse: 8.04737\tvalid_1's l2: 64.7601\n",
      "[500]\ttraining's rmse: 6.26809\ttraining's l2: 39.2889\tvalid_1's rmse: 8.03598\tvalid_1's l2: 64.577\n",
      "[600]\ttraining's rmse: 6.00994\ttraining's l2: 36.1194\tvalid_1's rmse: 8.0294\tvalid_1's l2: 64.4713\n",
      "[700]\ttraining's rmse: 5.77127\ttraining's l2: 33.3076\tvalid_1's rmse: 8.02484\tvalid_1's l2: 64.3981\n",
      "[800]\ttraining's rmse: 5.54979\ttraining's l2: 30.8002\tvalid_1's rmse: 8.02205\tvalid_1's l2: 64.3532\n",
      "[900]\ttraining's rmse: 5.34153\ttraining's l2: 28.5319\tvalid_1's rmse: 8.024\tvalid_1's l2: 64.3846\n",
      "Early stopping, best iteration is:\n",
      "[851]\ttraining's rmse: 5.4437\ttraining's l2: 29.6339\tvalid_1's rmse: 8.02112\tvalid_1's l2: 64.3384\n",
      "| \u001b[95m 2       \u001b[0m | \u001b[95m 8.021   \u001b[0m | \u001b[95m 0.6917  \u001b[0m | \u001b[95m 397.9   \u001b[0m | \u001b[95m 12.23   \u001b[0m | \u001b[95m 117.9   \u001b[0m | \u001b[95m 46.35   \u001b[0m | \u001b[95m 26.84   \u001b[0m | \u001b[95m 4.366   \u001b[0m | \u001b[95m 0.2032  \u001b[0m | \u001b[95m 0.9163  \u001b[0m |\n",
      "Training until validation scores don't improve for 100 rounds\n",
      "[100]\ttraining's rmse: 7.58493\ttraining's l2: 57.5312\tvalid_1's rmse: 8.30904\tvalid_1's l2: 69.0402\n",
      "[200]\ttraining's rmse: 6.73088\ttraining's l2: 45.3047\tvalid_1's rmse: 8.0941\tvalid_1's l2: 65.5144\n",
      "[300]\ttraining's rmse: 6.13021\ttraining's l2: 37.5795\tvalid_1's rmse: 8.0544\tvalid_1's l2: 64.8733\n",
      "[400]\ttraining's rmse: 5.6251\ttraining's l2: 31.6418\tvalid_1's rmse: 8.03479\tvalid_1's l2: 64.5578\n",
      "[500]\ttraining's rmse: 5.20091\ttraining's l2: 27.0495\tvalid_1's rmse: 8.02745\tvalid_1's l2: 64.4399\n",
      "[600]\ttraining's rmse: 4.8316\ttraining's l2: 23.3444\tvalid_1's rmse: 8.02394\tvalid_1's l2: 64.3836\n",
      "Early stopping, best iteration is:\n",
      "[579]\ttraining's rmse: 4.90272\ttraining's l2: 24.0367\tvalid_1's rmse: 8.02311\tvalid_1's l2: 64.3703\n",
      "| \u001b[95m 3       \u001b[0m | \u001b[95m 8.023   \u001b[0m | \u001b[95m 0.8891  \u001b[0m | \u001b[95m 436.3   \u001b[0m | \u001b[95m 15.83   \u001b[0m | \u001b[95m 161.8   \u001b[0m | \u001b[95m 23.61   \u001b[0m | \u001b[95m 55.22   \u001b[0m | \u001b[95m 5.923   \u001b[0m | \u001b[95m 6.4     \u001b[0m | \u001b[95m 0.5717  \u001b[0m |\n",
      "Training until validation scores don't improve for 100 rounds\n",
      "[100]\ttraining's rmse: 7.6473\ttraining's l2: 58.4812\tvalid_1's rmse: 8.33641\tvalid_1's l2: 69.4958\n",
      "[200]\ttraining's rmse: 6.83449\ttraining's l2: 46.7102\tvalid_1's rmse: 8.10785\tvalid_1's l2: 65.7373\n",
      "[300]\ttraining's rmse: 6.27412\ttraining's l2: 39.3646\tvalid_1's rmse: 8.04648\tvalid_1's l2: 64.7458\n",
      "[400]\ttraining's rmse: 5.81983\ttraining's l2: 33.8704\tvalid_1's rmse: 8.01585\tvalid_1's l2: 64.2538\n",
      "[500]\ttraining's rmse: 5.42854\ttraining's l2: 29.469\tvalid_1's rmse: 8.00636\tvalid_1's l2: 64.1017\n",
      "[600]\ttraining's rmse: 5.08758\ttraining's l2: 25.8835\tvalid_1's rmse: 8.00641\tvalid_1's l2: 64.1026\n",
      "Early stopping, best iteration is:\n",
      "[573]\ttraining's rmse: 5.17575\ttraining's l2: 26.7884\tvalid_1's rmse: 8.00458\tvalid_1's l2: 64.0732\n",
      "| \u001b[0m 4       \u001b[0m | \u001b[0m 8.005   \u001b[0m | \u001b[0m 0.9723  \u001b[0m | \u001b[0m 265.7   \u001b[0m | \u001b[0m 11.32   \u001b[0m | \u001b[0m 60.27   \u001b[0m | \u001b[0m 38.94   \u001b[0m | \u001b[0m 42.25   \u001b[0m | \u001b[0m 28.43   \u001b[0m | \u001b[0m 0.1889  \u001b[0m | \u001b[0m 0.8088  \u001b[0m |\n",
      "Training until validation scores don't improve for 100 rounds\n",
      "[100]\ttraining's rmse: 7.7289\ttraining's l2: 59.7359\tvalid_1's rmse: 8.33087\tvalid_1's l2: 69.4034\n",
      "[200]\ttraining's rmse: 6.98501\ttraining's l2: 48.7904\tvalid_1's rmse: 8.10923\tvalid_1's l2: 65.7596\n",
      "[300]\ttraining's rmse: 6.48013\ttraining's l2: 41.992\tvalid_1's rmse: 8.05691\tvalid_1's l2: 64.9138\n",
      "[400]\ttraining's rmse: 6.05372\ttraining's l2: 36.6476\tvalid_1's rmse: 8.03191\tvalid_1's l2: 64.5115\n",
      "[500]\ttraining's rmse: 5.6826\ttraining's l2: 32.292\tvalid_1's rmse: 8.01615\tvalid_1's l2: 64.2587\n",
      "[600]\ttraining's rmse: 5.34879\ttraining's l2: 28.6096\tvalid_1's rmse: 8.01392\tvalid_1's l2: 64.2229\n",
      "[700]\ttraining's rmse: 5.0476\ttraining's l2: 25.4782\tvalid_1's rmse: 8.01182\tvalid_1's l2: 64.1892\n",
      "[800]\ttraining's rmse: 4.77121\ttraining's l2: 22.7644\tvalid_1's rmse: 8.01445\tvalid_1's l2: 64.2314\n",
      "Early stopping, best iteration is:\n",
      "[706]\ttraining's rmse: 5.03059\ttraining's l2: 25.3068\tvalid_1's rmse: 8.01101\tvalid_1's l2: 64.1763\n",
      "| \u001b[0m 5       \u001b[0m | \u001b[0m 8.011   \u001b[0m | \u001b[0m 0.806   \u001b[0m | \u001b[0m 312.3   \u001b[0m | \u001b[0m 15.55   \u001b[0m | \u001b[0m 139.5   \u001b[0m | \u001b[0m 18.62   \u001b[0m | \u001b[0m 41.48   \u001b[0m | \u001b[0m 34.88   \u001b[0m | \u001b[0m 0.6032  \u001b[0m | \u001b[0m 0.8334  \u001b[0m |\n",
      "Training until validation scores don't improve for 100 rounds\n",
      "[100]\ttraining's rmse: 7.60203\ttraining's l2: 57.7908\tvalid_1's rmse: 8.30392\tvalid_1's l2: 68.9551\n",
      "[200]\ttraining's rmse: 6.75977\ttraining's l2: 45.6944\tvalid_1's rmse: 8.08706\tvalid_1's l2: 65.4005\n",
      "[300]\ttraining's rmse: 6.17427\ttraining's l2: 38.1216\tvalid_1's rmse: 8.03698\tvalid_1's l2: 64.593\n",
      "[400]\ttraining's rmse: 5.69709\ttraining's l2: 32.4568\tvalid_1's rmse: 8.02191\tvalid_1's l2: 64.351\n",
      "[500]\ttraining's rmse: 5.30621\ttraining's l2: 28.1559\tvalid_1's rmse: 8.01566\tvalid_1's l2: 64.2508\n",
      "Early stopping, best iteration is:\n",
      "[479]\ttraining's rmse: 5.3857\ttraining's l2: 29.0057\tvalid_1's rmse: 8.01459\tvalid_1's l2: 64.2337\n",
      "| \u001b[0m 6       \u001b[0m | \u001b[0m 8.015   \u001b[0m | \u001b[0m 0.6405  \u001b[0m | \u001b[0m 435.0   \u001b[0m | \u001b[0m 14.0    \u001b[0m | \u001b[0m 169.3   \u001b[0m | \u001b[0m 26.92   \u001b[0m | \u001b[0m 57.69   \u001b[0m | \u001b[0m 5.768   \u001b[0m | \u001b[0m 9.196   \u001b[0m | \u001b[0m 0.613   \u001b[0m |\n",
      "Training until validation scores don't improve for 100 rounds\n",
      "[100]\ttraining's rmse: 7.52304\ttraining's l2: 56.5961\tvalid_1's rmse: 8.2892\tvalid_1's l2: 68.7108\n",
      "[200]\ttraining's rmse: 6.64433\ttraining's l2: 44.1471\tvalid_1's rmse: 8.07494\tvalid_1's l2: 65.2046\n",
      "[300]\ttraining's rmse: 6.049\ttraining's l2: 36.5904\tvalid_1's rmse: 8.03278\tvalid_1's l2: 64.5255\n",
      "[400]\ttraining's rmse: 5.5924\ttraining's l2: 31.275\tvalid_1's rmse: 8.01308\tvalid_1's l2: 64.2095\n",
      "[500]\ttraining's rmse: 5.20146\ttraining's l2: 27.0552\tvalid_1's rmse: 8.00353\tvalid_1's l2: 64.0564\n",
      "[600]\ttraining's rmse: 4.86319\ttraining's l2: 23.6506\tvalid_1's rmse: 8.00424\tvalid_1's l2: 64.0679\n",
      "Early stopping, best iteration is:\n",
      "[503]\ttraining's rmse: 5.1902\ttraining's l2: 26.9382\tvalid_1's rmse: 8.00275\tvalid_1's l2: 64.0439\n",
      "| \u001b[0m 7       \u001b[0m | \u001b[0m 8.003   \u001b[0m | \u001b[0m 0.6415  \u001b[0m | \u001b[0m 445.9   \u001b[0m | \u001b[0m 12.54   \u001b[0m | \u001b[0m 154.9   \u001b[0m | \u001b[0m 12.0    \u001b[0m | \u001b[0m 59.55   \u001b[0m | \u001b[0m 2.39    \u001b[0m | \u001b[0m 3.207   \u001b[0m | \u001b[0m 0.6725  \u001b[0m |\n",
      "Training until validation scores don't improve for 100 rounds\n",
      "[100]\ttraining's rmse: 7.63391\ttraining's l2: 58.2767\tvalid_1's rmse: 8.30649\tvalid_1's l2: 68.9977\n",
      "[200]\ttraining's rmse: 6.8267\ttraining's l2: 46.6038\tvalid_1's rmse: 8.09862\tvalid_1's l2: 65.5876\n"
     ]
    },
    {
     "name": "stdout",
     "output_type": "stream",
     "text": [
      "[300]\ttraining's rmse: 6.28834\ttraining's l2: 39.5432\tvalid_1's rmse: 8.05283\tvalid_1's l2: 64.8481\n",
      "[400]\ttraining's rmse: 5.8646\ttraining's l2: 34.3935\tvalid_1's rmse: 8.03081\tvalid_1's l2: 64.4939\n",
      "[500]\ttraining's rmse: 5.51181\ttraining's l2: 30.38\tvalid_1's rmse: 8.0217\tvalid_1's l2: 64.3477\n",
      "[600]\ttraining's rmse: 5.2069\ttraining's l2: 27.1118\tvalid_1's rmse: 8.01642\tvalid_1's l2: 64.2629\n",
      "[700]\ttraining's rmse: 4.93614\ttraining's l2: 24.3654\tvalid_1's rmse: 8.013\tvalid_1's l2: 64.2081\n",
      "Early stopping, best iteration is:\n",
      "[654]\ttraining's rmse: 5.05848\ttraining's l2: 25.5882\tvalid_1's rmse: 8.01162\tvalid_1's l2: 64.186\n",
      "| \u001b[0m 8       \u001b[0m | \u001b[0m 8.012   \u001b[0m | \u001b[0m 0.8113  \u001b[0m | \u001b[0m 427.9   \u001b[0m | \u001b[0m 11.38   \u001b[0m | \u001b[0m 166.2   \u001b[0m | \u001b[0m 29.22   \u001b[0m | \u001b[0m 50.44   \u001b[0m | \u001b[0m 3.07    \u001b[0m | \u001b[0m 5.492   \u001b[0m | \u001b[0m 0.8455  \u001b[0m |\n",
      "Training until validation scores don't improve for 100 rounds\n",
      "[100]\ttraining's rmse: 7.61265\ttraining's l2: 57.9524\tvalid_1's rmse: 8.30686\tvalid_1's l2: 69.0039\n",
      "[200]\ttraining's rmse: 6.79364\ttraining's l2: 46.1535\tvalid_1's rmse: 8.0804\tvalid_1's l2: 65.2928\n",
      "[300]\ttraining's rmse: 6.25531\ttraining's l2: 39.1289\tvalid_1's rmse: 8.02864\tvalid_1's l2: 64.4591\n",
      "[400]\ttraining's rmse: 5.82994\ttraining's l2: 33.9882\tvalid_1's rmse: 8.00904\tvalid_1's l2: 64.1448\n",
      "[500]\ttraining's rmse: 5.49229\ttraining's l2: 30.1652\tvalid_1's rmse: 8.00512\tvalid_1's l2: 64.0819\n",
      "[600]\ttraining's rmse: 5.18507\ttraining's l2: 26.885\tvalid_1's rmse: 7.99911\tvalid_1's l2: 63.9858\n",
      "[700]\ttraining's rmse: 4.89553\ttraining's l2: 23.9662\tvalid_1's rmse: 7.99993\tvalid_1's l2: 63.9989\n",
      "Early stopping, best iteration is:\n",
      "[606]\ttraining's rmse: 5.16612\ttraining's l2: 26.6888\tvalid_1's rmse: 7.99895\tvalid_1's l2: 63.9833\n",
      "| \u001b[0m 9       \u001b[0m | \u001b[0m 7.999   \u001b[0m | \u001b[0m 0.5559  \u001b[0m | \u001b[0m 441.8   \u001b[0m | \u001b[0m 10.6    \u001b[0m | \u001b[0m 161.5   \u001b[0m | \u001b[0m 16.62   \u001b[0m | \u001b[0m 55.49   \u001b[0m | \u001b[0m 3.439   \u001b[0m | \u001b[0m 7.636   \u001b[0m | \u001b[0m 0.7992  \u001b[0m |\n",
      "Training until validation scores don't improve for 100 rounds\n",
      "[100]\ttraining's rmse: 7.57399\ttraining's l2: 57.3653\tvalid_1's rmse: 8.30647\tvalid_1's l2: 68.9974\n",
      "[200]\ttraining's rmse: 6.71662\ttraining's l2: 45.113\tvalid_1's rmse: 8.09371\tvalid_1's l2: 65.5081\n",
      "[300]\ttraining's rmse: 6.13591\ttraining's l2: 37.6494\tvalid_1's rmse: 8.04818\tvalid_1's l2: 64.7732\n",
      "[400]\ttraining's rmse: 5.68819\ttraining's l2: 32.3555\tvalid_1's rmse: 8.02469\tvalid_1's l2: 64.3956\n",
      "[500]\ttraining's rmse: 5.30608\ttraining's l2: 28.1545\tvalid_1's rmse: 8.01894\tvalid_1's l2: 64.3034\n",
      "[600]\ttraining's rmse: 4.96663\ttraining's l2: 24.6674\tvalid_1's rmse: 8.01557\tvalid_1's l2: 64.2494\n",
      "Early stopping, best iteration is:\n",
      "[537]\ttraining's rmse: 5.17758\ttraining's l2: 26.8073\tvalid_1's rmse: 8.01474\tvalid_1's l2: 64.236\n",
      "| \u001b[0m 10      \u001b[0m | \u001b[0m 8.015   \u001b[0m | \u001b[0m 0.8594  \u001b[0m | \u001b[0m 434.7   \u001b[0m | \u001b[0m 12.46   \u001b[0m | \u001b[0m 158.2   \u001b[0m | \u001b[0m 23.81   \u001b[0m | \u001b[0m 55.69   \u001b[0m | \u001b[0m 6.578   \u001b[0m | \u001b[0m 6.562   \u001b[0m | \u001b[0m 0.6601  \u001b[0m |\n",
      "Training until validation scores don't improve for 100 rounds\n",
      "[100]\ttraining's rmse: 7.9427\ttraining's l2: 63.0865\tvalid_1's rmse: 8.37881\tvalid_1's l2: 70.2045\n",
      "[200]\ttraining's rmse: 7.31532\ttraining's l2: 53.5139\tvalid_1's rmse: 8.13944\tvalid_1's l2: 66.2505\n",
      "[300]\ttraining's rmse: 6.9148\ttraining's l2: 47.8145\tvalid_1's rmse: 8.07759\tvalid_1's l2: 65.2475\n",
      "[400]\ttraining's rmse: 6.58702\ttraining's l2: 43.3888\tvalid_1's rmse: 8.04187\tvalid_1's l2: 64.6717\n",
      "[500]\ttraining's rmse: 6.30016\ttraining's l2: 39.692\tvalid_1's rmse: 8.02591\tvalid_1's l2: 64.4152\n",
      "[600]\ttraining's rmse: 6.04126\ttraining's l2: 36.4969\tvalid_1's rmse: 8.01631\tvalid_1's l2: 64.2612\n",
      "[700]\ttraining's rmse: 5.80595\ttraining's l2: 33.7091\tvalid_1's rmse: 8.01338\tvalid_1's l2: 64.2143\n",
      "[800]\ttraining's rmse: 5.58526\ttraining's l2: 31.1951\tvalid_1's rmse: 8.0119\tvalid_1's l2: 64.1905\n",
      "[900]\ttraining's rmse: 5.38057\ttraining's l2: 28.9505\tvalid_1's rmse: 8.01316\tvalid_1's l2: 64.2107\n",
      "Early stopping, best iteration is:\n",
      "[853]\ttraining's rmse: 5.4729\ttraining's l2: 29.9526\tvalid_1's rmse: 8.01097\tvalid_1's l2: 64.1756\n",
      "| \u001b[0m 11      \u001b[0m | \u001b[0m 8.011   \u001b[0m | \u001b[0m 0.5017  \u001b[0m | \u001b[0m 393.7   \u001b[0m | \u001b[0m 11.77   \u001b[0m | \u001b[0m 119.0   \u001b[0m | \u001b[0m 45.57   \u001b[0m | \u001b[0m 28.2    \u001b[0m | \u001b[0m 10.95   \u001b[0m | \u001b[0m 4.662   \u001b[0m | \u001b[0m 0.9552  \u001b[0m |\n",
      "Training until validation scores don't improve for 100 rounds\n",
      "[100]\ttraining's rmse: 7.86429\ttraining's l2: 61.8471\tvalid_1's rmse: 8.36904\tvalid_1's l2: 70.0408\n",
      "[200]\ttraining's rmse: 7.19543\ttraining's l2: 51.7742\tvalid_1's rmse: 8.13511\tvalid_1's l2: 66.1801\n",
      "[300]\ttraining's rmse: 6.74951\ttraining's l2: 45.5559\tvalid_1's rmse: 8.0702\tvalid_1's l2: 65.1281\n",
      "[400]\ttraining's rmse: 6.38227\ttraining's l2: 40.7334\tvalid_1's rmse: 8.03639\tvalid_1's l2: 64.5836\n",
      "[500]\ttraining's rmse: 6.06907\ttraining's l2: 36.8336\tvalid_1's rmse: 8.02074\tvalid_1's l2: 64.3323\n",
      "[600]\ttraining's rmse: 5.7942\ttraining's l2: 33.5728\tvalid_1's rmse: 8.016\tvalid_1's l2: 64.2563\n",
      "[700]\ttraining's rmse: 5.5403\ttraining's l2: 30.6949\tvalid_1's rmse: 8.01233\tvalid_1's l2: 64.1975\n",
      "[800]\ttraining's rmse: 5.3027\ttraining's l2: 28.1186\tvalid_1's rmse: 8.01214\tvalid_1's l2: 64.1944\n",
      "Early stopping, best iteration is:\n",
      "[753]\ttraining's rmse: 5.41298\ttraining's l2: 29.3004\tvalid_1's rmse: 8.01124\tvalid_1's l2: 64.18\n",
      "| \u001b[0m 12      \u001b[0m | \u001b[0m 8.011   \u001b[0m | \u001b[0m 0.8848  \u001b[0m | \u001b[0m 395.2   \u001b[0m | \u001b[0m 10.92   \u001b[0m | \u001b[0m 108.5   \u001b[0m | \u001b[0m 49.78   \u001b[0m | \u001b[0m 30.49   \u001b[0m | \u001b[0m 5.534   \u001b[0m | \u001b[0m 0.01794 \u001b[0m | \u001b[0m 0.7155  \u001b[0m |\n",
      "[LightGBM] [Warning] Accuracy may be bad since you didn't explicitly set num_leaves OR 2^max_depth > num_leaves. (num_leaves=31).\n",
      "Training until validation scores don't improve for 100 rounds\n",
      "[100]\ttraining's rmse: 7.86031\ttraining's l2: 61.7845\tvalid_1's rmse: 8.36201\tvalid_1's l2: 69.9233\n",
      "[200]\ttraining's rmse: 7.18398\ttraining's l2: 51.6096\tvalid_1's rmse: 8.12484\tvalid_1's l2: 66.0131\n",
      "[300]\ttraining's rmse: 6.73081\ttraining's l2: 45.3038\tvalid_1's rmse: 8.05926\tvalid_1's l2: 64.9517\n",
      "[400]\ttraining's rmse: 6.36093\ttraining's l2: 40.4615\tvalid_1's rmse: 8.02768\tvalid_1's l2: 64.4437\n",
      "[500]\ttraining's rmse: 6.04753\ttraining's l2: 36.5727\tvalid_1's rmse: 8.01551\tvalid_1's l2: 64.2483\n",
      "[600]\ttraining's rmse: 5.7612\ttraining's l2: 33.1915\tvalid_1's rmse: 8.00575\tvalid_1's l2: 64.0921\n",
      "[700]\ttraining's rmse: 5.50182\ttraining's l2: 30.27\tvalid_1's rmse: 8.0004\tvalid_1's l2: 64.0064\n",
      "[800]\ttraining's rmse: 5.25986\ttraining's l2: 27.6661\tvalid_1's rmse: 8.00071\tvalid_1's l2: 64.0114\n",
      "Early stopping, best iteration is:\n",
      "[776]\ttraining's rmse: 5.31913\ttraining's l2: 28.2931\tvalid_1's rmse: 7.99918\tvalid_1's l2: 63.9869\n",
      "| \u001b[0m 13      \u001b[0m | \u001b[0m 7.999   \u001b[0m | \u001b[0m 0.9782  \u001b[0m | \u001b[0m 405.2   \u001b[0m | \u001b[0m 11.17   \u001b[0m | \u001b[0m 120.1   \u001b[0m | \u001b[0m 45.49   \u001b[0m | \u001b[0m 30.91   \u001b[0m | \u001b[0m 4.665   \u001b[0m | \u001b[0m 2.582   \u001b[0m | \u001b[0m 0.5503  \u001b[0m |\n",
      "Training until validation scores don't improve for 100 rounds\n",
      "[100]\ttraining's rmse: 7.53181\ttraining's l2: 56.7282\tvalid_1's rmse: 8.29553\tvalid_1's l2: 68.8158\n",
      "[200]\ttraining's rmse: 6.67114\ttraining's l2: 44.5041\tvalid_1's rmse: 8.0854\tvalid_1's l2: 65.3737\n",
      "[300]\ttraining's rmse: 6.08995\ttraining's l2: 37.0874\tvalid_1's rmse: 8.03712\tvalid_1's l2: 64.5953\n",
      "[400]\ttraining's rmse: 5.63235\ttraining's l2: 31.7234\tvalid_1's rmse: 8.02384\tvalid_1's l2: 64.382\n",
      "[500]\ttraining's rmse: 5.26581\ttraining's l2: 27.7288\tvalid_1's rmse: 8.01729\tvalid_1's l2: 64.277\n",
      "[600]\ttraining's rmse: 4.93777\ttraining's l2: 24.3816\tvalid_1's rmse: 8.01812\tvalid_1's l2: 64.2903\n",
      "Early stopping, best iteration is:\n",
      "[546]\ttraining's rmse: 5.10711\ttraining's l2: 26.0825\tvalid_1's rmse: 8.01698\tvalid_1's l2: 64.2719\n",
      "| \u001b[0m 14      \u001b[0m | \u001b[0m 8.017   \u001b[0m | \u001b[0m 0.6685  \u001b[0m | \u001b[0m 435.9   \u001b[0m | \u001b[0m 12.3    \u001b[0m | \u001b[0m 164.7   \u001b[0m | \u001b[0m 19.64   \u001b[0m | \u001b[0m 61.3    \u001b[0m | \u001b[0m 8.407   \u001b[0m | \u001b[0m 0.871   \u001b[0m | \u001b[0m 0.7037  \u001b[0m |\n",
      "Training until validation scores don't improve for 100 rounds\n",
      "[100]\ttraining's rmse: 7.98218\ttraining's l2: 63.7152\tvalid_1's rmse: 8.39401\tvalid_1's l2: 70.4594\n",
      "[200]\ttraining's rmse: 7.3744\ttraining's l2: 54.3817\tvalid_1's rmse: 8.15096\tvalid_1's l2: 66.4382\n",
      "[300]\ttraining's rmse: 6.98701\ttraining's l2: 48.8183\tvalid_1's rmse: 8.08432\tvalid_1's l2: 65.3563\n"
     ]
    },
    {
     "name": "stdout",
     "output_type": "stream",
     "text": [
      "[400]\ttraining's rmse: 6.66691\ttraining's l2: 44.4476\tvalid_1's rmse: 8.05114\tvalid_1's l2: 64.8209\n",
      "[500]\ttraining's rmse: 6.39593\ttraining's l2: 40.9079\tvalid_1's rmse: 8.03778\tvalid_1's l2: 64.606\n",
      "[600]\ttraining's rmse: 6.14872\ttraining's l2: 37.8067\tvalid_1's rmse: 8.02787\tvalid_1's l2: 64.4467\n",
      "[700]\ttraining's rmse: 5.92343\ttraining's l2: 35.087\tvalid_1's rmse: 8.01867\tvalid_1's l2: 64.2991\n",
      "[800]\ttraining's rmse: 5.71402\ttraining's l2: 32.65\tvalid_1's rmse: 8.01743\tvalid_1's l2: 64.2791\n",
      "[900]\ttraining's rmse: 5.51652\ttraining's l2: 30.432\tvalid_1's rmse: 8.01619\tvalid_1's l2: 64.2594\n",
      "Early stopping, best iteration is:\n",
      "[879]\ttraining's rmse: 5.55647\ttraining's l2: 30.8743\tvalid_1's rmse: 8.01543\tvalid_1's l2: 64.2471\n",
      "| \u001b[0m 15      \u001b[0m | \u001b[0m 8.015   \u001b[0m | \u001b[0m 0.9147  \u001b[0m | \u001b[0m 386.5   \u001b[0m | \u001b[0m 10.52   \u001b[0m | \u001b[0m 111.1   \u001b[0m | \u001b[0m 49.14   \u001b[0m | \u001b[0m 25.02   \u001b[0m | \u001b[0m 10.08   \u001b[0m | \u001b[0m 7.33    \u001b[0m | \u001b[0m 0.9481  \u001b[0m |\n",
      "Training until validation scores don't improve for 100 rounds\n",
      "[100]\ttraining's rmse: 7.54628\ttraining's l2: 56.9464\tvalid_1's rmse: 8.29248\tvalid_1's l2: 68.7652\n",
      "[200]\ttraining's rmse: 6.75426\ttraining's l2: 45.62\tvalid_1's rmse: 8.08352\tvalid_1's l2: 65.3433\n",
      "[300]\ttraining's rmse: 6.29034\ttraining's l2: 39.5684\tvalid_1's rmse: 8.03728\tvalid_1's l2: 64.5979\n",
      "[400]\ttraining's rmse: 5.94671\ttraining's l2: 35.3634\tvalid_1's rmse: 8.01656\tvalid_1's l2: 64.2653\n",
      "[500]\ttraining's rmse: 5.6296\ttraining's l2: 31.6924\tvalid_1's rmse: 8.00733\tvalid_1's l2: 64.1173\n",
      "[600]\ttraining's rmse: 5.35531\ttraining's l2: 28.6794\tvalid_1's rmse: 8.00579\tvalid_1's l2: 64.0926\n",
      "[700]\ttraining's rmse: 5.11619\ttraining's l2: 26.1754\tvalid_1's rmse: 8.00562\tvalid_1's l2: 64.0899\n",
      "Early stopping, best iteration is:\n",
      "[644]\ttraining's rmse: 5.24634\ttraining's l2: 27.5241\tvalid_1's rmse: 8.00406\tvalid_1's l2: 64.065\n",
      "| \u001b[0m 16      \u001b[0m | \u001b[0m 8.004   \u001b[0m | \u001b[0m 0.6745  \u001b[0m | \u001b[0m 427.9   \u001b[0m | \u001b[0m 9.154   \u001b[0m | \u001b[0m 159.7   \u001b[0m | \u001b[0m 22.3    \u001b[0m | \u001b[0m 59.72   \u001b[0m | \u001b[0m 5.482   \u001b[0m | \u001b[0m 2.534   \u001b[0m | \u001b[0m 0.9366  \u001b[0m |\n",
      "Training until validation scores don't improve for 100 rounds\n",
      "[100]\ttraining's rmse: 7.6116\ttraining's l2: 57.9365\tvalid_1's rmse: 8.31638\tvalid_1's l2: 69.1621\n",
      "[200]\ttraining's rmse: 6.78165\ttraining's l2: 45.9908\tvalid_1's rmse: 8.10033\tvalid_1's l2: 65.6153\n",
      "[300]\ttraining's rmse: 6.19973\ttraining's l2: 38.4367\tvalid_1's rmse: 8.05651\tvalid_1's l2: 64.9073\n",
      "[400]\ttraining's rmse: 5.71312\ttraining's l2: 32.6398\tvalid_1's rmse: 8.0301\tvalid_1's l2: 64.4826\n",
      "[500]\ttraining's rmse: 5.30908\ttraining's l2: 28.1863\tvalid_1's rmse: 8.02398\tvalid_1's l2: 64.3842\n",
      "[600]\ttraining's rmse: 4.95658\ttraining's l2: 24.5677\tvalid_1's rmse: 8.02324\tvalid_1's l2: 64.3724\n",
      "Early stopping, best iteration is:\n",
      "[523]\ttraining's rmse: 5.22415\ttraining's l2: 27.2918\tvalid_1's rmse: 8.02186\tvalid_1's l2: 64.3502\n",
      "| \u001b[0m 17      \u001b[0m | \u001b[0m 8.022   \u001b[0m | \u001b[0m 0.8049  \u001b[0m | \u001b[0m 433.0   \u001b[0m | \u001b[0m 13.74   \u001b[0m | \u001b[0m 160.0   \u001b[0m | \u001b[0m 20.51   \u001b[0m | \u001b[0m 52.54   \u001b[0m | \u001b[0m 13.09   \u001b[0m | \u001b[0m 6.148   \u001b[0m | \u001b[0m 0.901   \u001b[0m |\n",
      "Training until validation scores don't improve for 100 rounds\n",
      "[100]\ttraining's rmse: 7.68577\ttraining's l2: 59.0711\tvalid_1's rmse: 8.31851\tvalid_1's l2: 69.1977\n",
      "[200]\ttraining's rmse: 6.91148\ttraining's l2: 47.7686\tvalid_1's rmse: 8.09969\tvalid_1's l2: 65.605\n",
      "[300]\ttraining's rmse: 6.38051\ttraining's l2: 40.7109\tvalid_1's rmse: 8.04811\tvalid_1's l2: 64.772\n",
      "[400]\ttraining's rmse: 5.94842\ttraining's l2: 35.3837\tvalid_1's rmse: 8.01904\tvalid_1's l2: 64.305\n",
      "[500]\ttraining's rmse: 5.59096\ttraining's l2: 31.2588\tvalid_1's rmse: 8.01027\tvalid_1's l2: 64.1644\n",
      "[600]\ttraining's rmse: 5.27114\ttraining's l2: 27.7849\tvalid_1's rmse: 8.00755\tvalid_1's l2: 64.1208\n",
      "[700]\ttraining's rmse: 4.98255\ttraining's l2: 24.8258\tvalid_1's rmse: 8.00776\tvalid_1's l2: 64.1243\n",
      "Early stopping, best iteration is:\n",
      "[640]\ttraining's rmse: 5.15156\ttraining's l2: 26.5385\tvalid_1's rmse: 8.00524\tvalid_1's l2: 64.0839\n",
      "| \u001b[0m 18      \u001b[0m | \u001b[0m 8.005   \u001b[0m | \u001b[0m 0.7291  \u001b[0m | \u001b[0m 440.7   \u001b[0m | \u001b[0m 11.68   \u001b[0m | \u001b[0m 169.8   \u001b[0m | \u001b[0m 25.39   \u001b[0m | \u001b[0m 46.99   \u001b[0m | \u001b[0m 7.889   \u001b[0m | \u001b[0m 7.006   \u001b[0m | \u001b[0m 0.5052  \u001b[0m |\n",
      "Training until validation scores don't improve for 100 rounds\n",
      "[100]\ttraining's rmse: 7.68053\ttraining's l2: 58.9906\tvalid_1's rmse: 8.32045\tvalid_1's l2: 69.2299\n",
      "[200]\ttraining's rmse: 6.88788\ttraining's l2: 47.4429\tvalid_1's rmse: 8.10401\tvalid_1's l2: 65.675\n",
      "[300]\ttraining's rmse: 6.33546\ttraining's l2: 40.1381\tvalid_1's rmse: 8.04898\tvalid_1's l2: 64.7861\n",
      "[400]\ttraining's rmse: 5.87961\ttraining's l2: 34.5698\tvalid_1's rmse: 8.02604\tvalid_1's l2: 64.4174\n",
      "[500]\ttraining's rmse: 5.48786\ttraining's l2: 30.1166\tvalid_1's rmse: 8.01964\tvalid_1's l2: 64.3145\n",
      "[600]\ttraining's rmse: 5.13377\ttraining's l2: 26.3556\tvalid_1's rmse: 8.01459\tvalid_1's l2: 64.2336\n",
      "[700]\ttraining's rmse: 4.8163\ttraining's l2: 23.1968\tvalid_1's rmse: 8.0127\tvalid_1's l2: 64.2033\n",
      "Early stopping, best iteration is:\n",
      "[692]\ttraining's rmse: 4.84081\ttraining's l2: 23.4334\tvalid_1's rmse: 8.01162\tvalid_1's l2: 64.186\n",
      "| \u001b[0m 19      \u001b[0m | \u001b[0m 8.012   \u001b[0m | \u001b[0m 0.9065  \u001b[0m | \u001b[0m 435.3   \u001b[0m | \u001b[0m 15.96   \u001b[0m | \u001b[0m 159.0   \u001b[0m | \u001b[0m 21.59   \u001b[0m | \u001b[0m 46.18   \u001b[0m | \u001b[0m 4.001   \u001b[0m | \u001b[0m 8.492   \u001b[0m | \u001b[0m 0.975   \u001b[0m |\n",
      "Training until validation scores don't improve for 100 rounds\n",
      "[100]\ttraining's rmse: 7.62919\ttraining's l2: 58.2046\tvalid_1's rmse: 8.31258\tvalid_1's l2: 69.099\n",
      "[200]\ttraining's rmse: 6.84031\ttraining's l2: 46.7898\tvalid_1's rmse: 8.09224\tvalid_1's l2: 65.4843\n",
      "[300]\ttraining's rmse: 6.35064\ttraining's l2: 40.3306\tvalid_1's rmse: 8.04125\tvalid_1's l2: 64.6616\n",
      "[400]\ttraining's rmse: 5.97977\ttraining's l2: 35.7577\tvalid_1's rmse: 8.01776\tvalid_1's l2: 64.2844\n",
      "[500]\ttraining's rmse: 5.66381\ttraining's l2: 32.0787\tvalid_1's rmse: 8.00999\tvalid_1's l2: 64.16\n",
      "[600]\ttraining's rmse: 5.38588\ttraining's l2: 29.0077\tvalid_1's rmse: 8.0083\tvalid_1's l2: 64.1329\n",
      "Early stopping, best iteration is:\n",
      "[557]\ttraining's rmse: 5.50553\ttraining's l2: 30.3109\tvalid_1's rmse: 8.00667\tvalid_1's l2: 64.1067\n",
      "| \u001b[0m 20      \u001b[0m | \u001b[0m 8.007   \u001b[0m | \u001b[0m 0.6791  \u001b[0m | \u001b[0m 437.5   \u001b[0m | \u001b[0m 9.159   \u001b[0m | \u001b[0m 154.1   \u001b[0m | \u001b[0m 21.2    \u001b[0m | \u001b[0m 52.63   \u001b[0m | \u001b[0m 14.1    \u001b[0m | \u001b[0m 9.155   \u001b[0m | \u001b[0m 0.9433  \u001b[0m |\n",
      "Training until validation scores don't improve for 100 rounds\n",
      "[100]\ttraining's rmse: 7.90886\ttraining's l2: 62.55\tvalid_1's rmse: 8.38212\tvalid_1's l2: 70.2599\n",
      "[200]\ttraining's rmse: 7.26369\ttraining's l2: 52.7611\tvalid_1's rmse: 8.1516\tvalid_1's l2: 66.4486\n",
      "[300]\ttraining's rmse: 6.83974\ttraining's l2: 46.7821\tvalid_1's rmse: 8.08396\tvalid_1's l2: 65.3504\n",
      "[400]\ttraining's rmse: 6.4888\ttraining's l2: 42.1046\tvalid_1's rmse: 8.05448\tvalid_1's l2: 64.8746\n",
      "[500]\ttraining's rmse: 6.18415\ttraining's l2: 38.2437\tvalid_1's rmse: 8.03987\tvalid_1's l2: 64.6395\n",
      "[600]\ttraining's rmse: 5.91462\ttraining's l2: 34.9828\tvalid_1's rmse: 8.03181\tvalid_1's l2: 64.51\n",
      "[700]\ttraining's rmse: 5.66593\ttraining's l2: 32.1027\tvalid_1's rmse: 8.02869\tvalid_1's l2: 64.4598\n",
      "[800]\ttraining's rmse: 5.43511\ttraining's l2: 29.5404\tvalid_1's rmse: 8.02667\tvalid_1's l2: 64.4274\n",
      "[900]\ttraining's rmse: 5.21882\ttraining's l2: 27.2361\tvalid_1's rmse: 8.0243\tvalid_1's l2: 64.3894\n",
      "[1000]\ttraining's rmse: 5.01708\ttraining's l2: 25.171\tvalid_1's rmse: 8.02422\tvalid_1's l2: 64.3881\n",
      "[1100]\ttraining's rmse: 4.82662\ttraining's l2: 23.2963\tvalid_1's rmse: 8.02668\tvalid_1's l2: 64.4275\n",
      "Early stopping, best iteration is:\n",
      "[1042]\ttraining's rmse: 4.93411\ttraining's l2: 24.3455\tvalid_1's rmse: 8.02306\tvalid_1's l2: 64.3695\n",
      "| \u001b[0m 21      \u001b[0m | \u001b[0m 8.023   \u001b[0m | \u001b[0m 0.8961  \u001b[0m | \u001b[0m 384.7   \u001b[0m | \u001b[0m 12.98   \u001b[0m | \u001b[0m 113.7   \u001b[0m | \u001b[0m 46.44   \u001b[0m | \u001b[0m 29.42   \u001b[0m | \u001b[0m 15.95   \u001b[0m | \u001b[0m 7.27    \u001b[0m | \u001b[0m 0.639   \u001b[0m |\n",
      "Training until validation scores don't improve for 100 rounds\n",
      "[100]\ttraining's rmse: 7.57636\ttraining's l2: 57.4012\tvalid_1's rmse: 8.30959\tvalid_1's l2: 69.0493\n",
      "[200]\ttraining's rmse: 6.71703\ttraining's l2: 45.1185\tvalid_1's rmse: 8.0935\tvalid_1's l2: 65.5048\n",
      "[300]\ttraining's rmse: 6.11816\ttraining's l2: 37.4318\tvalid_1's rmse: 8.04431\tvalid_1's l2: 64.711\n"
     ]
    },
    {
     "name": "stdout",
     "output_type": "stream",
     "text": [
      "[400]\ttraining's rmse: 5.64587\ttraining's l2: 31.8759\tvalid_1's rmse: 8.02322\tvalid_1's l2: 64.3721\n",
      "[500]\ttraining's rmse: 5.2434\ttraining's l2: 27.4932\tvalid_1's rmse: 8.01323\tvalid_1's l2: 64.2119\n",
      "[600]\ttraining's rmse: 4.88189\ttraining's l2: 23.8328\tvalid_1's rmse: 8.01307\tvalid_1's l2: 64.2093\n",
      "Early stopping, best iteration is:\n",
      "[522]\ttraining's rmse: 5.15704\ttraining's l2: 26.5951\tvalid_1's rmse: 8.01137\tvalid_1's l2: 64.182\n",
      "| \u001b[0m 22      \u001b[0m | \u001b[0m 8.011   \u001b[0m | \u001b[0m 0.9423  \u001b[0m | \u001b[0m 432.9   \u001b[0m | \u001b[0m 13.85   \u001b[0m | \u001b[0m 166.8   \u001b[0m | \u001b[0m 23.29   \u001b[0m | \u001b[0m 55.58   \u001b[0m | \u001b[0m 5.256   \u001b[0m | \u001b[0m 4.266   \u001b[0m | \u001b[0m 0.67    \u001b[0m |\n",
      "Training until validation scores don't improve for 100 rounds\n",
      "[100]\ttraining's rmse: 7.76621\ttraining's l2: 60.3141\tvalid_1's rmse: 8.34583\tvalid_1's l2: 69.6529\n",
      "[200]\ttraining's rmse: 7.03334\ttraining's l2: 49.4678\tvalid_1's rmse: 8.11877\tvalid_1's l2: 65.9144\n",
      "[300]\ttraining's rmse: 6.53564\ttraining's l2: 42.7146\tvalid_1's rmse: 8.05897\tvalid_1's l2: 64.947\n",
      "[400]\ttraining's rmse: 6.12422\ttraining's l2: 37.506\tvalid_1's rmse: 8.02868\tvalid_1's l2: 64.4598\n",
      "[500]\ttraining's rmse: 5.76926\ttraining's l2: 33.2844\tvalid_1's rmse: 8.01816\tvalid_1's l2: 64.2909\n",
      "[600]\ttraining's rmse: 5.45814\ttraining's l2: 29.7913\tvalid_1's rmse: 8.01267\tvalid_1's l2: 64.2028\n",
      "Early stopping, best iteration is:\n",
      "[565]\ttraining's rmse: 5.56339\ttraining's l2: 30.9514\tvalid_1's rmse: 8.01126\tvalid_1's l2: 64.1802\n",
      "| \u001b[0m 23      \u001b[0m | \u001b[0m 8.011   \u001b[0m | \u001b[0m 0.9337  \u001b[0m | \u001b[0m 387.3   \u001b[0m | \u001b[0m 12.14   \u001b[0m | \u001b[0m 112.7   \u001b[0m | \u001b[0m 47.69   \u001b[0m | \u001b[0m 37.1    \u001b[0m | \u001b[0m 21.14   \u001b[0m | \u001b[0m 2.137   \u001b[0m | \u001b[0m 0.9162  \u001b[0m |\n",
      "Training until validation scores don't improve for 100 rounds\n",
      "[100]\ttraining's rmse: 7.83686\ttraining's l2: 61.4164\tvalid_1's rmse: 8.35842\tvalid_1's l2: 69.8631\n",
      "[200]\ttraining's rmse: 7.15471\ttraining's l2: 51.1899\tvalid_1's rmse: 8.12825\tvalid_1's l2: 66.0685\n",
      "[300]\ttraining's rmse: 6.69855\ttraining's l2: 44.8706\tvalid_1's rmse: 8.06711\tvalid_1's l2: 65.0783\n",
      "[400]\ttraining's rmse: 6.32571\ttraining's l2: 40.0146\tvalid_1's rmse: 8.03545\tvalid_1's l2: 64.5685\n",
      "[500]\ttraining's rmse: 6.00149\ttraining's l2: 36.0178\tvalid_1's rmse: 8.02414\tvalid_1's l2: 64.3868\n",
      "[600]\ttraining's rmse: 5.71031\ttraining's l2: 32.6076\tvalid_1's rmse: 8.01813\tvalid_1's l2: 64.2904\n",
      "[700]\ttraining's rmse: 5.44406\ttraining's l2: 29.6378\tvalid_1's rmse: 8.0144\tvalid_1's l2: 64.2306\n",
      "[800]\ttraining's rmse: 5.19821\ttraining's l2: 27.0213\tvalid_1's rmse: 8.01257\tvalid_1's l2: 64.2013\n",
      "Early stopping, best iteration is:\n",
      "[771]\ttraining's rmse: 5.26947\ttraining's l2: 27.7673\tvalid_1's rmse: 8.01182\tvalid_1's l2: 64.1892\n",
      "| \u001b[0m 24      \u001b[0m | \u001b[0m 8.012   \u001b[0m | \u001b[0m 0.8273  \u001b[0m | \u001b[0m 376.2   \u001b[0m | \u001b[0m 13.12   \u001b[0m | \u001b[0m 110.5   \u001b[0m | \u001b[0m 45.35   \u001b[0m | \u001b[0m 31.81   \u001b[0m | \u001b[0m 9.26    \u001b[0m | \u001b[0m 2.973   \u001b[0m | \u001b[0m 0.9194  \u001b[0m |\n",
      "Training until validation scores don't improve for 100 rounds\n",
      "[100]\ttraining's rmse: 7.89993\ttraining's l2: 62.4089\tvalid_1's rmse: 8.37194\tvalid_1's l2: 70.0893\n",
      "[200]\ttraining's rmse: 7.25002\ttraining's l2: 52.5628\tvalid_1's rmse: 8.1416\tvalid_1's l2: 66.2856\n",
      "[300]\ttraining's rmse: 6.8247\ttraining's l2: 46.5765\tvalid_1's rmse: 8.07512\tvalid_1's l2: 65.2076\n",
      "[400]\ttraining's rmse: 6.47963\ttraining's l2: 41.9856\tvalid_1's rmse: 8.04623\tvalid_1's l2: 64.7418\n",
      "[500]\ttraining's rmse: 6.19278\ttraining's l2: 38.3506\tvalid_1's rmse: 8.02999\tvalid_1's l2: 64.4807\n",
      "[600]\ttraining's rmse: 5.92845\ttraining's l2: 35.1465\tvalid_1's rmse: 8.02307\tvalid_1's l2: 64.3697\n",
      "[700]\ttraining's rmse: 5.69045\ttraining's l2: 32.3812\tvalid_1's rmse: 8.02227\tvalid_1's l2: 64.3567\n",
      "Early stopping, best iteration is:\n",
      "[636]\ttraining's rmse: 5.83904\ttraining's l2: 34.0944\tvalid_1's rmse: 8.0207\tvalid_1's l2: 64.3317\n",
      "| \u001b[0m 25      \u001b[0m | \u001b[0m 8.021   \u001b[0m | \u001b[0m 0.9494  \u001b[0m | \u001b[0m 385.1   \u001b[0m | \u001b[0m 8.618   \u001b[0m | \u001b[0m 118.0   \u001b[0m | \u001b[0m 48.84   \u001b[0m | \u001b[0m 28.85   \u001b[0m | \u001b[0m 10.55   \u001b[0m | \u001b[0m 3.971   \u001b[0m | \u001b[0m 0.8658  \u001b[0m |\n",
      "Training until validation scores don't improve for 100 rounds\n",
      "[100]\ttraining's rmse: 7.58641\ttraining's l2: 57.5536\tvalid_1's rmse: 8.30459\tvalid_1's l2: 68.9662\n",
      "[200]\ttraining's rmse: 6.76623\ttraining's l2: 45.7819\tvalid_1's rmse: 8.09714\tvalid_1's l2: 65.5637\n",
      "[300]\ttraining's rmse: 6.23527\ttraining's l2: 38.8786\tvalid_1's rmse: 8.05338\tvalid_1's l2: 64.8569\n",
      "[400]\ttraining's rmse: 5.83179\ttraining's l2: 34.0098\tvalid_1's rmse: 8.03485\tvalid_1's l2: 64.5588\n",
      "[500]\ttraining's rmse: 5.5056\ttraining's l2: 30.3116\tvalid_1's rmse: 8.02778\tvalid_1's l2: 64.4452\n",
      "[600]\ttraining's rmse: 5.19886\ttraining's l2: 27.0281\tvalid_1's rmse: 8.02319\tvalid_1's l2: 64.3716\n",
      "[700]\ttraining's rmse: 4.90473\ttraining's l2: 24.0563\tvalid_1's rmse: 8.0238\tvalid_1's l2: 64.3814\n",
      "[800]\ttraining's rmse: 4.64697\ttraining's l2: 21.5944\tvalid_1's rmse: 8.022\tvalid_1's l2: 64.3524\n",
      "Early stopping, best iteration is:\n",
      "[798]\ttraining's rmse: 4.65003\ttraining's l2: 21.6228\tvalid_1's rmse: 8.02174\tvalid_1's l2: 64.3483\n",
      "| \u001b[0m 26      \u001b[0m | \u001b[0m 8.022   \u001b[0m | \u001b[0m 0.8482  \u001b[0m | \u001b[0m 437.6   \u001b[0m | \u001b[0m 10.24   \u001b[0m | \u001b[0m 159.4   \u001b[0m | \u001b[0m 24.54   \u001b[0m | \u001b[0m 52.7    \u001b[0m | \u001b[0m 13.4    \u001b[0m | \u001b[0m 0.5057  \u001b[0m | \u001b[0m 0.8552  \u001b[0m |\n",
      "Training until validation scores don't improve for 100 rounds\n",
      "[100]\ttraining's rmse: 7.55536\ttraining's l2: 57.0835\tvalid_1's rmse: 8.31029\tvalid_1's l2: 69.0609\n",
      "[200]\ttraining's rmse: 6.67301\ttraining's l2: 44.5291\tvalid_1's rmse: 8.09994\tvalid_1's l2: 65.6091\n",
      "[300]\ttraining's rmse: 6.06037\ttraining's l2: 36.728\tvalid_1's rmse: 8.05881\tvalid_1's l2: 64.9444\n",
      "[400]\ttraining's rmse: 5.56904\ttraining's l2: 31.0142\tvalid_1's rmse: 8.03614\tvalid_1's l2: 64.5796\n",
      "[500]\ttraining's rmse: 5.16051\ttraining's l2: 26.6309\tvalid_1's rmse: 8.02907\tvalid_1's l2: 64.466\n",
      "[600]\ttraining's rmse: 4.79999\ttraining's l2: 23.0399\tvalid_1's rmse: 8.02482\tvalid_1's l2: 64.3977\n",
      "[700]\ttraining's rmse: 4.49349\ttraining's l2: 20.1915\tvalid_1's rmse: 8.0242\tvalid_1's l2: 64.3878\n",
      "[800]\ttraining's rmse: 4.20913\ttraining's l2: 17.7168\tvalid_1's rmse: 8.02779\tvalid_1's l2: 64.4453\n",
      "Early stopping, best iteration is:\n",
      "[727]\ttraining's rmse: 4.40711\ttraining's l2: 19.4226\tvalid_1's rmse: 8.02239\tvalid_1's l2: 64.3588\n",
      "| \u001b[0m 27      \u001b[0m | \u001b[0m 8.022   \u001b[0m | \u001b[0m 0.8734  \u001b[0m | \u001b[0m 439.0   \u001b[0m | \u001b[0m 13.95   \u001b[0m | \u001b[0m 160.8   \u001b[0m | \u001b[0m 27.01   \u001b[0m | \u001b[0m 59.56   \u001b[0m | \u001b[0m 5.822   \u001b[0m | \u001b[0m 8.695   \u001b[0m | \u001b[0m 0.6129  \u001b[0m |\n",
      "Training until validation scores don't improve for 100 rounds\n",
      "[100]\ttraining's rmse: 7.98812\ttraining's l2: 63.8101\tvalid_1's rmse: 8.40209\tvalid_1's l2: 70.5951\n",
      "[200]\ttraining's rmse: 7.39277\ttraining's l2: 54.653\tvalid_1's rmse: 8.16352\tvalid_1's l2: 66.643\n",
      "[300]\ttraining's rmse: 7.01229\ttraining's l2: 49.1722\tvalid_1's rmse: 8.09621\tvalid_1's l2: 65.5487\n",
      "[400]\ttraining's rmse: 6.69963\ttraining's l2: 44.8851\tvalid_1's rmse: 8.06309\tvalid_1's l2: 65.0134\n",
      "[500]\ttraining's rmse: 6.43093\ttraining's l2: 41.3569\tvalid_1's rmse: 8.04804\tvalid_1's l2: 64.7709\n",
      "[600]\ttraining's rmse: 6.18925\ttraining's l2: 38.3069\tvalid_1's rmse: 8.0389\tvalid_1's l2: 64.6239\n",
      "[700]\ttraining's rmse: 5.96417\ttraining's l2: 35.5714\tvalid_1's rmse: 8.03209\tvalid_1's l2: 64.5145\n",
      "[800]\ttraining's rmse: 5.75297\ttraining's l2: 33.0967\tvalid_1's rmse: 8.02814\tvalid_1's l2: 64.451\n",
      "[900]\ttraining's rmse: 5.55868\ttraining's l2: 30.899\tvalid_1's rmse: 8.02985\tvalid_1's l2: 64.4784\n",
      "Early stopping, best iteration is:\n",
      "[849]\ttraining's rmse: 5.65579\ttraining's l2: 31.9879\tvalid_1's rmse: 8.02744\tvalid_1's l2: 64.4398\n",
      "| \u001b[95m 28      \u001b[0m | \u001b[95m 8.027   \u001b[0m | \u001b[95m 0.7969  \u001b[0m | \u001b[95m 394.9   \u001b[0m | \u001b[95m 13.06   \u001b[0m | \u001b[95m 116.9   \u001b[0m | \u001b[95m 45.32   \u001b[0m | \u001b[95m 24.27   \u001b[0m | \u001b[95m 1.807   \u001b[0m | \u001b[95m 1.717   \u001b[0m | \u001b[95m 0.6589  \u001b[0m |\n",
      "Training until validation scores don't improve for 100 rounds\n",
      "[100]\ttraining's rmse: 7.65908\ttraining's l2: 58.6615\tvalid_1's rmse: 8.31181\tvalid_1's l2: 69.0862\n",
      "[200]\ttraining's rmse: 6.87517\ttraining's l2: 47.2679\tvalid_1's rmse: 8.08756\tvalid_1's l2: 65.4086\n",
      "[300]\ttraining's rmse: 6.33102\ttraining's l2: 40.0818\tvalid_1's rmse: 8.03178\tvalid_1's l2: 64.5095\n",
      "[400]\ttraining's rmse: 5.87171\ttraining's l2: 34.477\tvalid_1's rmse: 8.01096\tvalid_1's l2: 64.1756\n"
     ]
    },
    {
     "name": "stdout",
     "output_type": "stream",
     "text": [
      "[500]\ttraining's rmse: 5.47868\ttraining's l2: 30.0159\tvalid_1's rmse: 8.00136\tvalid_1's l2: 64.0218\n",
      "[600]\ttraining's rmse: 5.13072\ttraining's l2: 26.3243\tvalid_1's rmse: 7.99751\tvalid_1's l2: 63.9602\n",
      "[700]\ttraining's rmse: 4.81238\ttraining's l2: 23.159\tvalid_1's rmse: 7.99961\tvalid_1's l2: 63.9938\n",
      "Early stopping, best iteration is:\n",
      "[629]\ttraining's rmse: 5.03323\ttraining's l2: 25.3334\tvalid_1's rmse: 7.9955\tvalid_1's l2: 63.928\n",
      "| \u001b[0m 29      \u001b[0m | \u001b[0m 7.996   \u001b[0m | \u001b[0m 0.6775  \u001b[0m | \u001b[0m 429.1   \u001b[0m | \u001b[0m 13.64   \u001b[0m | \u001b[0m 165.2   \u001b[0m | \u001b[0m 12.66   \u001b[0m | \u001b[0m 48.56   \u001b[0m | \u001b[0m 19.51   \u001b[0m | \u001b[0m 3.755   \u001b[0m | \u001b[0m 0.5494  \u001b[0m |\n",
      "Training until validation scores don't improve for 100 rounds\n",
      "[100]\ttraining's rmse: 7.83416\ttraining's l2: 61.3741\tvalid_1's rmse: 8.35543\tvalid_1's l2: 69.8132\n",
      "[200]\ttraining's rmse: 7.14765\ttraining's l2: 51.0888\tvalid_1's rmse: 8.12316\tvalid_1's l2: 65.9858\n",
      "[300]\ttraining's rmse: 6.69147\ttraining's l2: 44.7757\tvalid_1's rmse: 8.06273\tvalid_1's l2: 65.0075\n",
      "[400]\ttraining's rmse: 6.31828\ttraining's l2: 39.9207\tvalid_1's rmse: 8.02967\tvalid_1's l2: 64.4755\n",
      "[500]\ttraining's rmse: 5.99694\ttraining's l2: 35.9633\tvalid_1's rmse: 8.01567\tvalid_1's l2: 64.251\n",
      "[600]\ttraining's rmse: 5.70344\ttraining's l2: 32.5292\tvalid_1's rmse: 8.00748\tvalid_1's l2: 64.1198\n",
      "[700]\ttraining's rmse: 5.44028\ttraining's l2: 29.5966\tvalid_1's rmse: 8.00426\tvalid_1's l2: 64.0682\n",
      "[800]\ttraining's rmse: 5.19673\ttraining's l2: 27.006\tvalid_1's rmse: 8.00255\tvalid_1's l2: 64.0407\n",
      "[900]\ttraining's rmse: 4.96528\ttraining's l2: 24.654\tvalid_1's rmse: 8.00212\tvalid_1's l2: 64.0339\n",
      "Early stopping, best iteration is:\n",
      "[893]\ttraining's rmse: 4.98086\ttraining's l2: 24.8089\tvalid_1's rmse: 8.00167\tvalid_1's l2: 64.0267\n",
      "| \u001b[0m 30      \u001b[0m | \u001b[0m 8.002   \u001b[0m | \u001b[0m 0.8004  \u001b[0m | \u001b[0m 382.2   \u001b[0m | \u001b[0m 9.913   \u001b[0m | \u001b[0m 118.7   \u001b[0m | \u001b[0m 48.19   \u001b[0m | \u001b[0m 33.63   \u001b[0m | \u001b[0m 16.93   \u001b[0m | \u001b[0m 9.914   \u001b[0m | \u001b[0m 0.6186  \u001b[0m |\n",
      "=====================================================================================================================================\n"
     ]
    }
   ],
   "source": [
    "lgbBO = BayesianOptimization(f = lgb_rmse_eval, pbounds=bayesian_params, random_state=0)\n",
    "lgbBO.maximize(init_points=5, n_iter=25)"
   ]
  },
  {
   "cell_type": "code",
   "execution_count": 53,
   "metadata": {},
   "outputs": [
    {
     "name": "stdout",
     "output_type": "stream",
     "text": [
      "[7.990879514186974, 8.021120875248982, 8.023113318279556, 8.004575929540204, 8.01100880431051, 8.014589828768006, 8.002746037444211, 8.011617391949414, 7.998953863504376, 8.01473894000794, 8.01096612614202, 8.011240405523802, 7.999181685297426, 8.016977059471685, 8.01542891730467, 8.00405997689988, 8.021857081131763, 8.005241412686667, 8.01161848776005, 8.006667952105282, 8.023062128468782, 8.011369512964752, 8.0112572494732, 8.011818670691497, 8.020704514002414, 8.021736521608966, 8.022392987625485, 8.027441730349006, 7.99550135571294, 8.001665451789307]\n",
      "maximum target index: 0\n"
     ]
    }
   ],
   "source": [
    "# dictionary에 있는 target값을 모두 추출\n",
    "target_list = []\n",
    "\n",
    "for result in lgbBO.res:\n",
    "    target = result['target']\n",
    "    target_list.append(target)\n",
    "print(target_list)\n",
    "# 가장 큰 target 값을 가지는 순번(index)를 추출\n",
    "print('maximum target index:', np.argmin(np.array(target_list)))"
   ]
  },
  {
   "cell_type": "code",
   "execution_count": 54,
   "metadata": {
    "scrolled": false
   },
   "outputs": [
    {
     "name": "stdout",
     "output_type": "stream",
     "text": [
      "{'target': 7.990879514186974, 'params': {'colsample_bytree': 0.7744067519636624, 'max_bin': 360.44278952248555, 'max_depth': 12.822107008573152, 'min_child_samples': 113.52780476941041, 'min_child_weight': 21.75908516760633, 'num_leaves': 49.835764522666246, 'reg_alpha': 21.884984691022, 'reg_lambda': 8.917838234820016, 'subsample': 0.9818313802505146}}\n"
     ]
    }
   ],
   "source": [
    "# 가장 큰 target값을 가지는 index값을 기준으로 res에서 해당 parameter 추출. \n",
    "max_dict = lgbBO.res[np.argmin(np.array(target_list))]\n",
    "print(max_dict)"
   ]
  },
  {
   "cell_type": "code",
   "execution_count": 55,
   "metadata": {},
   "outputs": [],
   "source": [
    "target = pd.read_csv('../input/y_train.csv', encoding = 'cp949').age"
   ]
  },
  {
   "cell_type": "code",
   "execution_count": 56,
   "metadata": {},
   "outputs": [],
   "source": [
    "from sklearn.model_selection import KFold\n",
    "ftr = X_new\n",
    "target = target\n",
    "\n",
    "def train_apps_all_with_oof(ftr, ttmp_arget, nfolds=5):\n",
    "    ftr = ftr\n",
    "    tmp_target = target\n",
    "\n",
    "    # nfolds 개의 cross validatin fold set을 가지는 KFold 생성 \n",
    "    folds = KFold(n_splits = nfolds, shuffle=True, random_state=0)\n",
    "    \n",
    "    # Out of Folds로 학습된 모델의 validation set을 예측하여 결과 확률을 담을 array 생성.\n",
    "    # validation set가 n_split갯수만큼 있으므로 크기는 ftr_app의 크기가 되어야 함. \n",
    "    oof_preds = np.zeros((ftr.shape[0],))  \n",
    "    \n",
    "    # Ouf of Folds로 학습된 모델의 test dataset을 예측하여 결과 확률을 담을 array 생성. \n",
    "    test_preds = np.zeros(((X_te_new.shape[0],)))\n",
    "    \n",
    "    # n_estimators를 4000까지 확대. \n",
    "    clf = LGBMRegressor(\n",
    "                nthread=4,\n",
    "                n_estimators=4000,\n",
    "                learning_rate=0.01,\n",
    "                max_depth=16,\n",
    "                num_leaves=41,\n",
    "                colsample_bytree=0.504,\n",
    "                subsample=0.612,\n",
    "                max_bin=441,\n",
    "                reg_alpha=24.647,\n",
    "                reg_lambda=7.605,\n",
    "                min_child_weight=28,\n",
    "                min_child_samples=184,\n",
    "                silent=-1,\n",
    "                verbose=-1,\n",
    "                )\n",
    "\n",
    "    # nfolds 번 cross validation Iteration 반복하면서 OOF 방식으로 학습 및 테스트 데이터 예측\n",
    "    for fold_idx, (train_idx, valid_idx) in enumerate(folds.split(ftr)):\n",
    "        print('##### iteration ', fold_idx, ' 시작')\n",
    "        # 학습용 데이터 세트의 인덱스와 검증용 데이터 세트의 인덱스 추출하여 이를 기반으로 학습/검증 데이터 추출\n",
    "        train_x = ftr.iloc[train_idx, :]\n",
    "        train_y = tmp_target.iloc[train_idx]\n",
    "        valid_x = ftr.iloc[valid_idx, :]\n",
    "        valid_y = tmp_target.iloc[valid_idx]\n",
    "        \n",
    "        # 추출된 학습/검증 데이터 세트로 모델 학습. early_stopping은 200으로 증가. \n",
    "        clf.fit(train_x, train_y, eval_set=[(train_x, train_y), (valid_x, valid_y)], eval_metric= 'RMSE', verbose= 200, \n",
    "                early_stopping_rounds= 200)\n",
    "        # 검증 데이터 세트로 예측된 확률 저장. 사용되지는 않음. \n",
    "        #oof_preds[valid_idx] = clf.predict(valid_x, num_iteration=clf.best_iteration_)       \n",
    "        # 학습된 모델로 테스트 데이터 세트에 예측 확률 계산. \n",
    "        # nfolds 번 반복 실행하므로 평균 확률을 구하기 위해 개별 수행시 마다 수행 횟수로 나눈 확률을 추후에 더해서 최종 평균 확률 계산. \n",
    "        test_preds += clf.predict(X_te_new, num_iteration=clf.best_iteration_)/folds.n_splits\n",
    "        \n",
    "        \n",
    "    return clf, test_preds"
   ]
  },
  {
   "cell_type": "code",
   "execution_count": 57,
   "metadata": {
    "scrolled": true
   },
   "outputs": [
    {
     "name": "stdout",
     "output_type": "stream",
     "text": [
      "##### iteration  0  시작\n",
      "[LightGBM] [Warning] num_threads is set with n_jobs=-1, nthread=4 will be ignored. Current value: num_threads=-1\n",
      "Training until validation scores don't improve for 200 rounds\n",
      "[200]\ttraining's rmse: 7.82631\ttraining's l2: 61.2511\tvalid_1's rmse: 8.37478\tvalid_1's l2: 70.137\n",
      "[400]\ttraining's rmse: 7.15004\ttraining's l2: 51.1231\tvalid_1's rmse: 8.11886\tvalid_1's l2: 65.9159\n",
      "[600]\ttraining's rmse: 6.70633\ttraining's l2: 44.9749\tvalid_1's rmse: 8.05434\tvalid_1's l2: 64.8723\n",
      "[800]\ttraining's rmse: 6.33284\ttraining's l2: 40.1048\tvalid_1's rmse: 8.02955\tvalid_1's l2: 64.4737\n",
      "[1000]\ttraining's rmse: 5.99961\ttraining's l2: 35.9954\tvalid_1's rmse: 8.0125\tvalid_1's l2: 64.2002\n",
      "[1200]\ttraining's rmse: 5.69879\ttraining's l2: 32.4762\tvalid_1's rmse: 8.00032\tvalid_1's l2: 64.005\n",
      "[1400]\ttraining's rmse: 5.42277\ttraining's l2: 29.4064\tvalid_1's rmse: 7.99923\tvalid_1's l2: 63.9877\n",
      "Early stopping, best iteration is:\n",
      "[1327]\ttraining's rmse: 5.52113\ttraining's l2: 30.4829\tvalid_1's rmse: 7.99767\tvalid_1's l2: 63.9628\n",
      "##### iteration  1  시작\n",
      "[LightGBM] [Warning] num_threads is set with n_jobs=-1, nthread=4 will be ignored. Current value: num_threads=-1\n",
      "Training until validation scores don't improve for 200 rounds\n",
      "[200]\ttraining's rmse: 7.85808\ttraining's l2: 61.7495\tvalid_1's rmse: 8.23364\tvalid_1's l2: 67.7928\n",
      "[400]\ttraining's rmse: 7.18006\ttraining's l2: 51.5532\tvalid_1's rmse: 7.97808\tvalid_1's l2: 63.6497\n",
      "[600]\ttraining's rmse: 6.73393\ttraining's l2: 45.3458\tvalid_1's rmse: 7.91117\tvalid_1's l2: 62.5866\n",
      "[800]\ttraining's rmse: 6.35923\ttraining's l2: 40.4398\tvalid_1's rmse: 7.88295\tvalid_1's l2: 62.1409\n",
      "[1000]\ttraining's rmse: 6.02415\ttraining's l2: 36.2904\tvalid_1's rmse: 7.86412\tvalid_1's l2: 61.8444\n",
      "[1200]\ttraining's rmse: 5.72254\ttraining's l2: 32.7474\tvalid_1's rmse: 7.85496\tvalid_1's l2: 61.7005\n",
      "[1400]\ttraining's rmse: 5.44573\ttraining's l2: 29.656\tvalid_1's rmse: 7.84848\tvalid_1's l2: 61.5986\n",
      "[1600]\ttraining's rmse: 5.19188\ttraining's l2: 26.9556\tvalid_1's rmse: 7.84841\tvalid_1's l2: 61.5975\n",
      "Early stopping, best iteration is:\n",
      "[1504]\ttraining's rmse: 5.3113\ttraining's l2: 28.2099\tvalid_1's rmse: 7.84642\tvalid_1's l2: 61.5662\n",
      "##### iteration  2  시작\n",
      "[LightGBM] [Warning] num_threads is set with n_jobs=-1, nthread=4 will be ignored. Current value: num_threads=-1\n",
      "Training until validation scores don't improve for 200 rounds\n",
      "[200]\ttraining's rmse: 7.83454\ttraining's l2: 61.3801\tvalid_1's rmse: 8.30786\tvalid_1's l2: 69.0206\n",
      "[400]\ttraining's rmse: 7.15404\ttraining's l2: 51.1803\tvalid_1's rmse: 8.0763\tvalid_1's l2: 65.2267\n",
      "[600]\ttraining's rmse: 6.70569\ttraining's l2: 44.9663\tvalid_1's rmse: 8.01676\tvalid_1's l2: 64.2685\n",
      "[800]\ttraining's rmse: 6.33117\ttraining's l2: 40.0837\tvalid_1's rmse: 7.99631\tvalid_1's l2: 63.941\n",
      "[1000]\ttraining's rmse: 5.99996\ttraining's l2: 35.9996\tvalid_1's rmse: 7.98839\tvalid_1's l2: 63.8144\n",
      "[1200]\ttraining's rmse: 5.70086\ttraining's l2: 32.4998\tvalid_1's rmse: 7.98636\tvalid_1's l2: 63.782\n",
      "[1400]\ttraining's rmse: 5.42971\ttraining's l2: 29.4817\tvalid_1's rmse: 7.98527\tvalid_1's l2: 63.7645\n",
      "[1600]\ttraining's rmse: 5.17348\ttraining's l2: 26.7649\tvalid_1's rmse: 7.98613\tvalid_1's l2: 63.7783\n",
      "Early stopping, best iteration is:\n",
      "[1501]\ttraining's rmse: 5.29716\ttraining's l2: 28.0599\tvalid_1's rmse: 7.98485\tvalid_1's l2: 63.7579\n",
      "##### iteration  3  시작\n",
      "[LightGBM] [Warning] num_threads is set with n_jobs=-1, nthread=4 will be ignored. Current value: num_threads=-1\n",
      "Training until validation scores don't improve for 200 rounds\n",
      "[200]\ttraining's rmse: 7.80165\ttraining's l2: 60.8658\tvalid_1's rmse: 8.48159\tvalid_1's l2: 71.9374\n",
      "[400]\ttraining's rmse: 7.11768\ttraining's l2: 50.6614\tvalid_1's rmse: 8.22688\tvalid_1's l2: 67.6815\n",
      "[600]\ttraining's rmse: 6.67019\ttraining's l2: 44.4914\tvalid_1's rmse: 8.15352\tvalid_1's l2: 66.4799\n",
      "[800]\ttraining's rmse: 6.29626\ttraining's l2: 39.6428\tvalid_1's rmse: 8.12612\tvalid_1's l2: 66.0338\n",
      "[1000]\ttraining's rmse: 5.96181\ttraining's l2: 35.5432\tvalid_1's rmse: 8.11623\tvalid_1's l2: 65.8731\n",
      "[1200]\ttraining's rmse: 5.66009\ttraining's l2: 32.0366\tvalid_1's rmse: 8.11232\tvalid_1's l2: 65.8098\n",
      "[1400]\ttraining's rmse: 5.38617\ttraining's l2: 29.0109\tvalid_1's rmse: 8.11051\tvalid_1's l2: 65.7804\n",
      "[1600]\ttraining's rmse: 5.13178\ttraining's l2: 26.3352\tvalid_1's rmse: 8.1088\tvalid_1's l2: 65.7527\n",
      "[1800]\ttraining's rmse: 4.89627\ttraining's l2: 23.9735\tvalid_1's rmse: 8.10893\tvalid_1's l2: 65.7548\n",
      "Early stopping, best iteration is:\n",
      "[1644]\ttraining's rmse: 5.07843\ttraining's l2: 25.7904\tvalid_1's rmse: 8.1074\tvalid_1's l2: 65.73\n",
      "##### iteration  4  시작\n",
      "[LightGBM] [Warning] num_threads is set with n_jobs=-1, nthread=4 will be ignored. Current value: num_threads=-1\n",
      "Training until validation scores don't improve for 200 rounds\n",
      "[200]\ttraining's rmse: 7.84546\ttraining's l2: 61.5512\tvalid_1's rmse: 8.32896\tvalid_1's l2: 69.3715\n",
      "[400]\ttraining's rmse: 7.16709\ttraining's l2: 51.3671\tvalid_1's rmse: 8.06029\tvalid_1's l2: 64.9684\n",
      "[600]\ttraining's rmse: 6.71887\ttraining's l2: 45.1432\tvalid_1's rmse: 7.99856\tvalid_1's l2: 63.9769\n",
      "[800]\ttraining's rmse: 6.34239\ttraining's l2: 40.226\tvalid_1's rmse: 7.97757\tvalid_1's l2: 63.6417\n",
      "[1000]\ttraining's rmse: 6.00921\ttraining's l2: 36.1106\tvalid_1's rmse: 7.96653\tvalid_1's l2: 63.4655\n",
      "[1200]\ttraining's rmse: 5.70782\ttraining's l2: 32.5793\tvalid_1's rmse: 7.96128\tvalid_1's l2: 63.3819\n",
      "[1400]\ttraining's rmse: 5.43341\ttraining's l2: 29.5219\tvalid_1's rmse: 7.95594\tvalid_1's l2: 63.2969\n",
      "Early stopping, best iteration is:\n",
      "[1355]\ttraining's rmse: 5.49342\ttraining's l2: 30.1777\tvalid_1's rmse: 7.95491\tvalid_1's l2: 63.2807\n"
     ]
    }
   ],
   "source": [
    "clf, test_preds = train_apps_all_with_oof(ftr, target, nfolds=5)"
   ]
  },
  {
   "cell_type": "markdown",
   "metadata": {},
   "source": [
    "# Deployment"
   ]
  },
  {
   "cell_type": "code",
   "execution_count": 64,
   "metadata": {},
   "outputs": [],
   "source": [
    "import pickle\n",
    "import joblib"
   ]
  },
  {
   "cell_type": "code",
   "execution_count": 58,
   "metadata": {},
   "outputs": [],
   "source": [
    "IDtest = num_features_test.custid.unique()"
   ]
  },
  {
   "cell_type": "code",
   "execution_count": 59,
   "metadata": {},
   "outputs": [],
   "source": [
    "fname = 'submissions_0614_6_lgbmBO.csv'\n",
    "submissions = pd.concat([pd.Series(IDtest, name=\"custid\"), pd.Series(test_preds, name=\"age\")] ,axis=1)"
   ]
  },
  {
   "cell_type": "code",
   "execution_count": 60,
   "metadata": {
    "scrolled": false
   },
   "outputs": [
    {
     "name": "stdout",
     "output_type": "stream",
     "text": [
      "'submissions_0614_6_lgbmBO.csv' is ready to submit.\n"
     ]
    }
   ],
   "source": [
    "submissions.to_csv(fname, index=False)\n",
    "print(\"'{}' is ready to submit.\" .format(fname))"
   ]
  },
  {
   "cell_type": "code",
   "execution_count": 62,
   "metadata": {},
   "outputs": [],
   "source": [
    "pikle_data = (np.array(X_train), np.array(X_val), y_train, y_val, np.array(all_features_test), np.array(IDtest))"
   ]
  },
  {
   "cell_type": "code",
   "execution_count": 65,
   "metadata": {},
   "outputs": [],
   "source": [
    "with open('DNN_features.pkl', 'wb') as f:\n",
    "    pickle.dump(pikle_data, f)"
   ]
  },
  {
   "cell_type": "markdown",
   "metadata": {},
   "source": [
    "# Model Ensemble"
   ]
  },
  {
   "cell_type": "code",
   "execution_count": 66,
   "metadata": {},
   "outputs": [],
   "source": [
    "dnn_model = pd.read_csv('../submissions/dnn_submission_06150340_최종.csv')\n",
    "lgbm_model = pd.read_csv('../submissions/submissions_0614_6_lgbmBO.csv')"
   ]
  },
  {
   "cell_type": "code",
   "execution_count": 67,
   "metadata": {},
   "outputs": [],
   "source": [
    "submission_ours = (dnn_model['age'] + lgbm_model['age']) / 2"
   ]
  },
  {
   "cell_type": "code",
   "execution_count": 68,
   "metadata": {},
   "outputs": [],
   "source": [
    "submission_1st = pd.read_csv('../submissions/submission_1st.csv')\n",
    "submission_2nd = pd.read_csv('../submissions/submission_2nd.csv')\n",
    "submission_3rd = pd.read_csv('../submissions/submission_3rd.csv')"
   ]
  },
  {
   "cell_type": "code",
   "execution_count": 69,
   "metadata": {},
   "outputs": [],
   "source": [
    "professor_model = pd.read_csv('../submissions/5. dnn_submission_8.15961.csv')"
   ]
  },
  {
   "cell_type": "code",
   "execution_count": 74,
   "metadata": {},
   "outputs": [],
   "source": [
    "pred = submission_ours*0.4 + submission_1st['age']*0.3 + submission_2nd['age']*0.2 + submission_3rd['age']*0.1\n",
    "pred = pred*0.6 + professor_model['age']*0.4"
   ]
  },
  {
   "cell_type": "code",
   "execution_count": 76,
   "metadata": {},
   "outputs": [
    {
     "name": "stdout",
     "output_type": "stream",
     "text": [
      "'submissions_0615_19_최종.csv' is ready to submit.\n"
     ]
    }
   ],
   "source": [
    "fname = 'submissions_0615_19_최종.csv'\n",
    "submissions = pd.concat([pd.Series(IDtest, name=\"custid\"), pd.Series(pred, name=\"age\")] ,axis=1)\n",
    "submissions.to_csv(fname, index=False)\n",
    "print(\"'{}' is ready to submit.\" .format(fname))"
   ]
  },
  {
   "cell_type": "markdown",
   "metadata": {},
   "source": [
    "# <font color=\"#CC3D3D\"> END"
   ]
  }
 ],
 "metadata": {
  "kernelspec": {
   "display_name": "Python 3",
   "language": "python",
   "name": "python3"
  },
  "language_info": {
   "codemirror_mode": {
    "name": "ipython",
    "version": 3
   },
   "file_extension": ".py",
   "mimetype": "text/x-python",
   "name": "python",
   "nbconvert_exporter": "python",
   "pygments_lexer": "ipython3",
   "version": "3.8.8"
  }
 },
 "nbformat": 4,
 "nbformat_minor": 4
}
